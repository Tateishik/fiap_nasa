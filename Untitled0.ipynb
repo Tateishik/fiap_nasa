{
  "nbformat": 4,
  "nbformat_minor": 0,
  "metadata": {
    "colab": {
      "provenance": []
    },
    "kernelspec": {
      "name": "python3",
      "display_name": "Python 3"
    },
    "language_info": {
      "name": "python"
    }
  },
  "cells": [
    {
      "cell_type": "code",
      "source": [
        "import requests"
      ],
      "metadata": {
        "id": "qdf6M-G85FGe"
      },
      "execution_count": null,
      "outputs": []
    },
    {
      "cell_type": "code",
      "source": [
        "x = requests.get(\"https://viacep.com.br/ws/13211-771/json/\")\n",
        "x.json()\n"
      ],
      "metadata": {
        "colab": {
          "base_uri": "https://localhost:8080/"
        },
        "id": "c8kFiZh55J7-",
        "outputId": "66689274-6ee3-40d2-9e0d-89ddd2d82be1"
      },
      "execution_count": null,
      "outputs": [
        {
          "output_type": "execute_result",
          "data": {
            "text/plain": [
              "{'cep': '13211-771',\n",
              " 'logradouro': 'Avenida Antônio Pincinato',\n",
              " 'complemento': 'de 561/562 ao fim',\n",
              " 'bairro': 'Recanto Quarto Centenário',\n",
              " 'localidade': 'Jundiaí',\n",
              " 'uf': 'SP',\n",
              " 'ibge': '3525904',\n",
              " 'gia': '4078',\n",
              " 'ddd': '11',\n",
              " 'siafi': '6619'}"
            ]
          },
          "metadata": {},
          "execution_count": 3
        }
      ]
    },
    {
      "cell_type": "code",
      "source": [],
      "metadata": {
        "id": "XQ5liZKz-tJp"
      },
      "execution_count": null,
      "outputs": []
    },
    {
      "cell_type": "code",
      "source": [
        "nasa = requests.get(\"https://api.nasa.gov/planetary/apod?api_key=A74heFetVkjhPaViSBzJxvpZEEYNVZFTVvGtGtKx&date=2005-02-24\")\n",
        "nasa.json()"
      ],
      "metadata": {
        "id": "IwvVDOTY-taa",
        "colab": {
          "base_uri": "https://localhost:8080/"
        },
        "outputId": "934b6cf1-0727-4962-8762-f0ddb5e16fd5"
      },
      "execution_count": null,
      "outputs": [
        {
          "output_type": "execute_result",
          "data": {
            "text/plain": [
              "{'date': '2005-02-25',\n",
              " 'explanation': 'Dubbed the \"Dragon Storm\", convoluted, swirling cloud features are tinted orange in this false-color, near-infrared image of Saturn\\'s southern hemisphere. In one of a series of discoveries announced by Cassini researchers, the Dragon Storm was found to be responsible for mysterious bursts of radio static monitored by Cassini instruments during the last year as the spacecraft orbited the ringed planet. The storm is now thought to be a giant Saturnian thunderstorm, like storms on Earth, with radio noise produced in high-voltage lightning discharges. The Cassini observations are also consistent with the Dragon Storm being a long-lived storm, deep within the gas giant\\'s atmosphere, that periodically flares-up to produce large, visible storm regions.',\n",
              " 'hdurl': 'https://apod.nasa.gov/apod/image/0502/dragonstorm_cassini_full.jpg',\n",
              " 'media_type': 'image',\n",
              " 'service_version': 'v1',\n",
              " 'title': \"Saturn's Dragon Storm\",\n",
              " 'url': 'https://apod.nasa.gov/apod/image/0502/dragonstorm_cassini_c62.jpg'}"
            ]
          },
          "metadata": {},
          "execution_count": 7
        }
      ]
    }
  ]
}